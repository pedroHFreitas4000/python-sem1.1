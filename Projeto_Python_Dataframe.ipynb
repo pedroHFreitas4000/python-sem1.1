{
  "nbformat": 4,
  "nbformat_minor": 0,
  "metadata": {
    "colab": {
      "provenance": [],
      "authorship_tag": "ABX9TyMsQBikB3txGUjlVXolnLNW",
      "include_colab_link": true
    },
    "kernelspec": {
      "name": "python3",
      "display_name": "Python 3"
    },
    "language_info": {
      "name": "python"
    }
  },
  "cells": [
    {
      "cell_type": "markdown",
      "metadata": {
        "id": "view-in-github",
        "colab_type": "text"
      },
      "source": [
        "<a href=\"https://colab.research.google.com/github/pedroHFreitas4000/python-sem1.1/blob/main/Projeto_Python_Dataframe.ipynb\" target=\"_parent\"><img src=\"https://colab.research.google.com/assets/colab-badge.svg\" alt=\"Open In Colab\"/></a>"
      ]
    },
    {
      "cell_type": "code",
      "execution_count": null,
      "metadata": {
        "id": "pF22w2YJ6lFp"
      },
      "outputs": [],
      "source": [
        "import pandas as pd\n",
        "import matplotlib.pyplot as plt\n",
        "import seaborn as sns\n",
        "print(\"Item 1 - Importar os modulos [pandas], [matplotlib] e [seaborn]\")\n",
        "\n",
        "print(\"\\nItem 2 - \\n\")\n",
        "url = 'http://archive.ics.uci.edu/ml/machine-learning-databases/image/segmentation.data'\n",
        "print('Repositório dos dados:', url)\n",
        "\n",
        "print(\"\\nItem 3 - Apresentando os dados do dataframe\")\n",
        "data = pd.read_csv(url, header = 2)\n",
        "data\n",
        "\n",
        "print(\"\\nItem 4 - Apresentando os 5 primeiros registros do dataframe\")\n",
        "data.head(5)\n",
        "\n",
        "print(\"\\nItem 5 - Apresentando as colunas do dataframe\")\n",
        "dataColumns = data.columns\n",
        "dataColumns\n",
        "\n",
        "print(\"\\nItem 6 - Apresentando os tipos de cada coluna do dataframe\")\n",
        "data.dtypes\n",
        "\n",
        "print(\"\\nItem 7 - Usando a função [describe] para descrever o dataframe\")\n",
        "data.describe\n",
        "\n",
        "print(\"\\nItem 8 - Retirando os dados NA de uma das caracteristicas do dataframe\")\n",
        "dataWithoutNA = data['INTENSITY-MEAN'].dropna\n",
        "dataWithoutNA\n"
      ]
    }
  ]
}