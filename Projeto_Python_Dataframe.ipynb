{
  "nbformat": 4,
  "nbformat_minor": 0,
  "metadata": {
    "colab": {
      "provenance": [],
      "authorship_tag": "ABX9TyNGXPBUzUkNqHoHqjFTu/6y",
      "include_colab_link": true
    },
    "kernelspec": {
      "name": "python3",
      "display_name": "Python 3"
    },
    "language_info": {
      "name": "python"
    }
  },
  "cells": [
    {
      "cell_type": "markdown",
      "metadata": {
        "id": "view-in-github",
        "colab_type": "text"
      },
      "source": [
        "<a href=\"https://colab.research.google.com/github/pedroHFreitas4000/python-sem1.1/blob/main/Projeto_Python_Dataframe.ipynb\" target=\"_parent\"><img src=\"https://colab.research.google.com/assets/colab-badge.svg\" alt=\"Open In Colab\"/></a>"
      ]
    },
    {
      "cell_type": "code",
      "execution_count": 72,
      "metadata": {
        "colab": {
          "base_uri": "https://localhost:8080/"
        },
        "id": "pF22w2YJ6lFp",
        "outputId": "3d98175a-5fef-4297-83c8-5cd3e9431432"
      },
      "outputs": [
        {
          "output_type": "stream",
          "name": "stdout",
          "text": [
            "Item 1 - Importar os modulos [pandas], [matplotlib] e [seaborn]\n",
            "\n",
            "Item 2 - \n",
            "\n",
            "Repositório dos dados: http://archive.ics.uci.edu/ml/machine-learning-databases/image/segmentation.data\n",
            "\n",
            "Item 3 - Apresentando os dados do dataframe\n",
            "\n",
            "Item 4 - Apresentando os 5 primeiros registros do dataframe\n",
            "\n",
            "Item 5 - Apresentando as colunas do dataframe\n",
            "\n",
            "Item 6 - Apresentando os tipos de cada coluna do dataframe\n",
            "\n",
            "Item 7 - Usando a função [describe] para descrever o dataframe\n",
            "\n",
            "Item 8 - Retirando os dados NA de uma das caracteristicas do dataframe\n"
          ]
        },
        {
          "output_type": "execute_result",
          "data": {
            "text/plain": [
              "<bound method Series.dropna of BRICKFACE     6.185185\n",
              "BRICKFACE     6.666666\n",
              "BRICKFACE     6.111111\n",
              "BRICKFACE     5.851852\n",
              "BRICKFACE     6.037037\n",
              "               ...    \n",
              "GRASS        13.333333\n",
              "GRASS        13.703704\n",
              "GRASS        16.074074\n",
              "GRASS        14.148149\n",
              "GRASS        12.962963\n",
              "Name: INTENSITY-MEAN, Length: 210, dtype: float64>"
            ]
          },
          "metadata": {},
          "execution_count": 72
        }
      ],
      "source": [
        "import pandas as pd\n",
        "import matplotlib.pyplot as plt\n",
        "import seaborn as sns\n",
        "print(\"Item 1 - Importar os modulos [pandas], [matplotlib] e [seaborn]\")\n",
        "\n",
        "print(\"\\nItem 2 - \\n\")\n",
        "url = 'http://archive.ics.uci.edu/ml/machine-learning-databases/image/segmentation.data'\n",
        "print('Repositório dos dados:', url)\n",
        "\n",
        "print(\"\\nItem 3 - Apresentando os dados do dataframe\")\n",
        "data = pd.read_csv(url, header = 2)\n",
        "data\n",
        "\n",
        "print(\"\\nItem 4 - Apresentando os 5 primeiros registros do dataframe\")\n",
        "data.head(5)\n",
        "\n",
        "print(\"\\nItem 5 - Apresentando as colunas do dataframe\")\n",
        "dataColumns = data.columns\n",
        "dataColumns\n",
        "\n",
        "print(\"\\nItem 6 - Apresentando os tipos de cada coluna do dataframe\")\n",
        "dataColumns.dtype\n",
        "\n",
        "print(\"\\nItem 7 - Usando a função [describe] para descrever o dataframe\")\n",
        "data.describe\n",
        "\n",
        "print(\"\\nItem 8 - Retirando os dados NA de uma das caracteristicas do dataframe\")\n",
        "dataWithoutNA = data['INTENSITY-MEAN'].dropna\n",
        "dataWithoutNA"
      ]
    }
  ]
}