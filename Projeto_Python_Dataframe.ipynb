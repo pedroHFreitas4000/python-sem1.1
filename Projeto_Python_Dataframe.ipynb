{
  "nbformat": 4,
  "nbformat_minor": 0,
  "metadata": {
    "colab": {
      "provenance": [],
      "authorship_tag": "ABX9TyO8KAuO/9etQRip6OV/1em5",
      "include_colab_link": true
    },
    "kernelspec": {
      "name": "python3",
      "display_name": "Python 3"
    },
    "language_info": {
      "name": "python"
    }
  },
  "cells": [
    {
      "cell_type": "markdown",
      "metadata": {
        "id": "view-in-github",
        "colab_type": "text"
      },
      "source": [
        "<a href=\"https://colab.research.google.com/github/pedroHFreitas4000/python-sem1.1/blob/main/Projeto_Python_Dataframe.ipynb\" target=\"_parent\"><img src=\"https://colab.research.google.com/assets/colab-badge.svg\" alt=\"Open In Colab\"/></a>"
      ]
    },
    {
      "cell_type": "code",
      "execution_count": 93,
      "metadata": {
        "colab": {
          "base_uri": "https://localhost:8080/"
        },
        "id": "pF22w2YJ6lFp",
        "outputId": "2234bb13-eb20-4c20-ae50-901a765703b1"
      },
      "outputs": [
        {
          "output_type": "stream",
          "name": "stdout",
          "text": [
            "Item 1 - Importar os modulos [pandas], [matplotlib] e [seaborn]\n",
            "\n",
            "Item 2 - \n",
            "\n",
            "Repositório dos dados: http://archive.ics.uci.edu/ml/machine-learning-databases/image/segmentation.data\n",
            "\n",
            "Item 3 - Apresentando os dados do dataframe\n",
            "\n",
            "Item 4 - Apresentando os 5 primeiros registros do dataframe\n",
            "\n",
            "Item 5 - Apresentando as colunas do dataframe\n",
            "\n",
            "Item 6 - Apresentando os tipos de cada coluna do dataframe\n"
          ]
        },
        {
          "output_type": "execute_result",
          "data": {
            "text/plain": [
              "REGION-CENTROID-COL     float64\n",
              "REGION-CENTROID-ROW     float64\n",
              "REGION-PIXEL-COUNT        int64\n",
              "SHORT-LINE-DENSITY-5    float64\n",
              "SHORT-LINE-DENSITY-2    float64\n",
              "VEDGE-MEAN              float64\n",
              "VEDGE-SD                float64\n",
              "HEDGE-MEAN              float64\n",
              "HEDGE-SD                float64\n",
              "INTENSITY-MEAN          float64\n",
              "RAWRED-MEAN             float64\n",
              "RAWBLUE-MEAN            float64\n",
              "RAWGREEN-MEAN           float64\n",
              "EXRED-MEAN              float64\n",
              "EXBLUE-MEAN             float64\n",
              "EXGREEN-MEAN            float64\n",
              "VALUE-MEAN              float64\n",
              "SATURATION-MEAN         float64\n",
              "HUE-MEAN                float64\n",
              "dtype: object"
            ]
          },
          "metadata": {},
          "execution_count": 93
        }
      ],
      "source": [
        "import pandas as pd\n",
        "import matplotlib.pyplot as plt\n",
        "import seaborn as sns\n",
        "print(\"Item 1 - Importar os modulos [pandas], [matplotlib] e [seaborn]\")\n",
        "\n",
        "print(\"\\nItem 2 - \\n\")\n",
        "url = 'http://archive.ics.uci.edu/ml/machine-learning-databases/image/segmentation.data'\n",
        "print('Repositório dos dados:', url)\n",
        "\n",
        "print(\"\\nItem 3 - Apresentando os dados do dataframe\")\n",
        "data = pd.read_csv(url, header = 2)\n",
        "data\n",
        "\n",
        "print(\"\\nItem 4 - Apresentando os 5 primeiros registros do dataframe\")\n",
        "data.head(5)\n",
        "\n",
        "print(\"\\nItem 5 - Apresentando as colunas do dataframe\")\n",
        "dataColumns = data.columns\n",
        "dataColumns\n",
        "\n",
        "print(\"\\nItem 6 - Apresentando os tipos de cada coluna do dataframe\")\n",
        "data.dtypes\n",
        "\n",
        "print(\"\\nItem 7 - Usando a função [describe] para descrever o dataframe\")\n",
        "data.describe\n",
        "\n",
        "print(\"\\nItem 8 - Retirando os dados NA de uma das caracteristicas do dataframe\")\n",
        "dataWithoutNA = data['INTENSITY-MEAN'].dropna\n",
        "dataWithoutNA\n"
      ]
    },
    {
      "cell_type": "code",
      "source": [],
      "metadata": {
        "id": "Fpwjn74WfKzg"
      },
      "execution_count": null,
      "outputs": []
    }
  ]
}